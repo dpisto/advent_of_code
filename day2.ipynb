{
 "cells": [
  {
   "cell_type": "code",
   "execution_count": 2,
   "metadata": {},
   "outputs": [
    {
     "data": {
      "text/plain": [
       "['Game 1: 2 red, 2 green; 6 red, 3 green; 2 red, 1 green, 2 blue; 1 red',\n",
       " 'Game 2: 2 green; 15 red, 5 blue; 2 green, 4 blue, 5 red; 3 green, 6 blue, 6 red; 6 blue, 1 green',\n",
       " 'Game 3: 10 blue, 8 red, 5 green; 5 green, 3 red; 12 red, 2 green, 9 blue; 6 green, 11 red',\n",
       " 'Game 4: 2 green, 3 blue, 1 red; 17 green, 1 blue, 1 red; 1 green, 5 red',\n",
       " 'Game 5: 4 green, 13 red, 3 blue; 14 blue, 5 green, 5 red; 2 blue, 7 green, 3 red; 5 green, 11 blue, 10 red',\n",
       " 'Game 6: 1 green, 4 red; 1 blue, 19 red, 5 green; 15 red, 1 green, 1 blue; 8 green, 12 red; 19 green, 7 red; 2 blue, 14 red, 12 green',\n",
       " 'Game 7: 1 blue, 3 red, 3 green; 4 green; 1 blue, 6 red, 5 green',\n",
       " 'Game 8: 1 green; 1 green, 16 red, 1 blue; 3 red, 1 green, 1 blue; 1 green; 2 blue; 9 red',\n",
       " 'Game 9: 5 green, 1 red; 6 red, 4 blue, 1 green; 9 green, 7 red, 6 blue; 11 red, 12 green, 4 blue',\n",
       " 'Game 10: 12 green, 4 blue, 7 red; 6 blue, 2 red; 7 green, 6 blue, 6 red']"
      ]
     },
     "execution_count": 2,
     "metadata": {},
     "output_type": "execute_result"
    }
   ],
   "source": [
    "\n",
    "import re\n",
    "from aoc_util.helper import read\n",
    "data = read(\"./2023/inputs/2.txt\").strip().split(\"\\n\")\n",
    "import pandas as pd\n",
    "\n",
    "data_samples = data[0:10]\n",
    "data_samples\n"
   ]
  },
  {
   "cell_type": "code",
   "execution_count": 202,
   "metadata": {},
   "outputs": [],
   "source": [
    "test_sample = ['Game 1: 3 blue, 4 red; 1 red, 2 green, 6 blue; 2 green',\n",
    "'Game 2: 1 blue, 2 green; 3 green, 4 blue, 1 red; 1 green, 1 blue',\n",
    "'Game 3: 8 green, 6 blue, 20 red; 5 blue, 4 red, 13 green; 5 green, 1 red',\n",
    "'Game 4: 1 green, 3 red, 6 blue; 3 green, 6 red; 3 green, 15 blue, 14 red',\n",
    "'Game 5: 6 red, 1 blue, 3 green; 2 blue, 1 red, 2 green']\n"
   ]
  },
  {
   "cell_type": "code",
   "execution_count": 3,
   "metadata": {},
   "outputs": [
    {
     "name": "stdout",
     "output_type": "stream",
     "text": [
      "2169\n"
     ]
    }
   ],
   "source": [
    "# PART 1\n",
    "\n",
    "colors = ['red', 'green', 'blue']\n",
    "check_list = ['12 red', '13 green', '14 blue']\n",
    "impossible_games = []\n",
    "min_color_list = []\n",
    "\n",
    "print(game_dict)\n",
    "\n",
    "# loop through each row in the list data\n",
    "for row in data:\n",
    "    # turn the row of data (str) into a list\n",
    "    games_list = row.split(':')\n",
    "    game_dict = {}\n",
    "    # turn the list into a dictionary\n",
    "    game_dict[games_list[0]] = games_list[1].replace(';', ',')\n",
    "\n",
    "    # loop through each dictionary created from the row\n",
    "    for key, value in game_dict.items():\n",
    "        # loop through each color in the colors list\n",
    "        for color in colors:\n",
    "            # if the color matches the data, then check the value\n",
    "            if color in value:\n",
    "                # get the value of the color from the check list\n",
    "                check_value_color = str([item for item in check_list if color in item])\n",
    "                check_value = int(re.findall(r'\\d+', check_value_color)[0])\n",
    "                # get the value of the color from the data\n",
    "                list =  value.split(',')\n",
    "                color_numbers = [re.findall(r'\\d+', item) for item in list if color in item]\n",
    "\n",
    "                # Extract the integer values from the inner lists\n",
    "                int_values = [int(inner_list[0]) for inner_list in color_numbers]\n",
    "                # Find the maximum value\n",
    "                max_value = max(int_values)\n",
    "                # Display the maximum value\n",
    "                min_color_list.append([f\"Game: {int(str(key).split(' ')[1])}, {color}, {max_value}\"])\n",
    "\n",
    "                # check if the value of the color is less than or equal to the check value\n",
    "                result_list = [int(item[0]) <= int(check_value) for item in color_numbers]\n",
    "                # if the result list contains a False, then the game is impossible\n",
    "                # impossible game numbers saved to list\n",
    "                if False in result_list:\n",
    "                    impossible_games.append(int(str(key).split(' ')[1]))\n",
    "                    break\n",
    "                else:\n",
    "                    pass\n",
    "            else:\n",
    "                break\n",
    "\n",
    "# de-deplicate the impossible games list\n",
    "total_games_df = pd.DataFrame({'possible_games': range(1, 101)})\n",
    "impossible_games_df = pd.DataFrame(impossible_games, columns=['possible_games'])\n",
    "result_df = pd.concat([total_games_df, impossible_games_df], ignore_index=True).drop_duplicates(keep=False)\n",
    "\n",
    "# um the game numbers\n",
    "sum = result_df['possible_games'].sum()\n",
    "print(sum)\n",
    "\n",
    "\n"
   ]
  },
  {
   "cell_type": "code",
   "execution_count": 236,
   "metadata": {},
   "outputs": [
    {
     "name": "stdout",
     "output_type": "stream",
     "text": [
      "60948\n"
     ]
    }
   ],
   "source": [
    "# PART 2\n",
    "\n",
    "colors = ['red', 'green', 'blue']\n",
    "check_list = ['12 red', '13 green', '14 blue']\n",
    "impossible_games = []\n",
    "min_color_list = []\n",
    "\n",
    "# loop through each row in the list data\n",
    "for row in data:\n",
    "    # turn the row of data (str) into a list\n",
    "    games_list = row.split(':')\n",
    "    game_dict = {}\n",
    "    # turn the list into a dictionary\n",
    "    game_dict[games_list[0]] = games_list[1].replace(';', ',')\n",
    "\n",
    "    # loop through each dictionary created from the row\n",
    "    for key, value in game_dict.items():\n",
    "        # loop through each color in the colors list\n",
    "        for color in colors:\n",
    "            # if the color matches the data, then check the value\n",
    "            if color in value:\n",
    "                # get the value of the color from the check list\n",
    "                check_value_color = str([item for item in check_list if color in item])\n",
    "                check_value = int(re.findall(r'\\d+', check_value_color)[0])\n",
    "                # get the value of the color from the data\n",
    "                list =  value.split(',')\n",
    "                color_numbers = [re.findall(r'\\d+', item) for item in list if color in item]\n",
    "\n",
    "                # Extract the integer values from the inner lists\n",
    "                int_values = [int(inner_list[0]) for inner_list in color_numbers]\n",
    "                # Find the maximum value\n",
    "                max_value = max(int_values)\n",
    "                # Display the maximum value\n",
    "                min_color_list.append([f\"Game: {int(str(key).split(' ')[1])}, {color}, {max_value}\"])\n",
    "\n",
    "# Extracting information from each sublist\n",
    "game_info = [sublist[0].split(', ') for sublist in min_color_list]\n",
    "\n",
    "# Creating a DataFrame\n",
    "df = pd.DataFrame(game_info, columns=['Game', 'Color', 'Quantity'])\n",
    "df['Quantity'] = pd.to_numeric(df['Quantity']).copy()\n",
    "pivot_df = df.pivot(index='Game', columns='Color', values='Quantity')\n",
    "\n",
    "\n",
    "pivot_df['Result'] = pivot_df[['blue', 'green', 'red']].product(axis=1)\n",
    "\n",
    "# Display the updated DataFrame\n",
    "sum = pivot_df['Result'].sum()\n",
    "print(sum)\n"
   ]
  },
  {
   "cell_type": "code",
   "execution_count": 234,
   "metadata": {},
   "outputs": [
    {
     "name": "stdout",
     "output_type": "stream",
     "text": [
      "2286\n"
     ]
    }
   ],
   "source": [
    "\n",
    "\n",
    "# # Extracting information from each sublist\n",
    "# game_info = [sublist[0].split(', ') for sublist in min_color_list]\n",
    "\n",
    "# # Creating a DataFrame\n",
    "# df = pd.DataFrame(game_info, columns=['Game', 'Color', 'Quantity'])\n",
    "# df['Quantity'] = pd.to_numeric(df['Quantity']).copy()\n",
    "# pivot_df = df.pivot(index='Game', columns='Color', values='Quantity')\n",
    "\n",
    "\n",
    "# pivot_df['Result'] = pivot_df[['blue', 'green', 'red']].product(axis=1)\n",
    "\n",
    "# # Display the updated DataFrame\n",
    "# sum = pivot_df['Result'].sum()\n",
    "# print(sum)\n"
   ]
  },
  {
   "cell_type": "code",
   "execution_count": 199,
   "metadata": {},
   "outputs": [
    {
     "name": "stdout",
     "output_type": "stream",
     "text": [
      "Maximum value: 6\n"
     ]
    }
   ],
   "source": [
    "# list_of_lists = [['2'], ['6'], ['2'], ['1']]\n",
    "\n",
    "# # Extract the integer values from the inner lists\n",
    "# int_values = [int(inner_list[0]) for inner_list in list_of_lists]\n",
    "# # Find the maximum value\n",
    "# max_value = max(int_values)\n",
    "# # Display the maximum value\n",
    "# print(\"Maximum value:\", max_value)"
   ]
  },
  {
   "cell_type": "code",
   "execution_count": 79,
   "metadata": {},
   "outputs": [
    {
     "data": {
      "text/plain": [
       "[True, True, True, True]"
      ]
     },
     "execution_count": 79,
     "metadata": {},
     "output_type": "execute_result"
    }
   ],
   "source": [
    "# string = \"2 red, 2 green, 6 red, 3 green, 2 red, 1 green, 2 blue, 1 red\"\n",
    "# list =  string.split(',')\n",
    "# color_numbers = [re.findall(r'\\d+', item) for item in list if 'red' in item]\n",
    "# [int(item[0]) <= check_value for item in color_numbers]\n",
    "\n"
   ]
  },
  {
   "cell_type": "code",
   "execution_count": 8,
   "metadata": {},
   "outputs": [
    {
     "name": "stdout",
     "output_type": "stream",
     "text": [
      "2\n"
     ]
    }
   ],
   "source": [
    "\n",
    "\n",
    "# create empty dictionary for the games\n",
    "game_dict = {}\n",
    "\n",
    "# create lits from item in data samles\n",
    "games_list = data_samples[0].split(':')\n",
    "# save game name\n",
    "game = games_list[0]\n",
    "\n",
    "# create list of game sets\n",
    "divided_list = games_list[1].split(';')\n",
    "\n",
    "# create game dictionary\n",
    "game_dict[games_list[0]] = divided_list\n",
    "\n",
    "colors = ['red', 'green', 'blue']\n",
    "check_list = ['12 red', '13 green', '14 blue']\n",
    "\n",
    "each_game_part = games_list[1].split(';')\n",
    "\n",
    "# print(each_game_part[0].split(','))\n",
    "\n",
    "for part in each_game_part[0].split(','):\n",
    "    if 'red' in part:\n",
    "        extracted_number = ''.join([char for char in part if char.isdigit()])\n",
    "        print(extracted_number)\n",
    "\n",
    "\n",
    "        # extracted_number = ''.join([char for char in value if char.isdigit()])\n",
    "        # print(extracted_number)\n",
    "        # game_value = [print(item) for item in value if 'red' in item]\n",
    "        # print(game_value)\n",
    "        \n",
    "        \n",
    "\n",
    "        # print(f\"check value: {check_value}\")\n",
    "\n",
    "# games_list[0]\n",
    "# print(games_list[1].replace(';', ','))\n",
    "\n",
    "# each_game = games_list[1].split(';')\n",
    "# # each_part = each_game.split(',')\n",
    "# each_pull = []\n",
    "# for each in each_game:\n",
    "#     print(each.split(','))\n",
    "    \n",
    "# print(each_game)\n",
    "# print(each_pull)"
   ]
  },
  {
   "cell_type": "code",
   "execution_count": 108,
   "metadata": {},
   "outputs": [
    {
     "data": {
      "text/plain": [
       "4"
      ]
     },
     "execution_count": 108,
     "metadata": {},
     "output_type": "execute_result"
    }
   ],
   "source": [
    "\n",
    "\n",
    "\n",
    "#     target_color = 'red'\n",
    "\n",
    "#     # i = 0\n",
    "#     value = [item for item in [part] if target_color in part]\n",
    "#     print(value)\n",
    "    # print(value)\n",
    "    # game_value = [i for item in part if target_color in item]\n",
    "    # check_value = [i for item in check_list if target_color in item]\n",
    "    # print(game_value, check_value)\n",
    "\n",
    "    # if int(game_value[0]) <= int(check_value[0]):\n",
    "    \n",
    "    #     print(f\"game possible: game not possible\")\n",
    "    # else:\n",
    "    #     print(f\"game possible: game possible\")\n",
    "\n",
    "\n",
    "\n",
    "# for i in range(len(my_dict)):\n",
    "\n",
    "# loop thorugh each part of game\n",
    "# for key, value in game_dict.items():\n",
    "#     game_list = value\n",
    "#     print(value)   \n",
    "#     print(key)\n",
    "\n",
    "# game_values = game_dict['Game 1'][0]\n",
    "# print(game_values)"
   ]
  },
  {
   "cell_type": "code",
   "execution_count": 180,
   "metadata": {},
   "outputs": [
    {
     "name": "stdout",
     "output_type": "stream",
     "text": [
      "['12 red']\n"
     ]
    }
   ],
   "source": [
    "target_color = 'red'\n",
    "game_value = [item for item in check_list if target_color in item]\n",
    "print(game_value)\n",
    "\n",
    "# print(each_game_part[0].split(',')[0])\n",
    "\n",
    "# extracted_number = ''.join([char for char in part if char.isdigit()])\n",
    "\n"
   ]
  }
 ],
 "metadata": {
  "kernelspec": {
   "display_name": "venv",
   "language": "python",
   "name": "python3"
  },
  "language_info": {
   "codemirror_mode": {
    "name": "ipython",
    "version": 3
   },
   "file_extension": ".py",
   "mimetype": "text/x-python",
   "name": "python",
   "nbconvert_exporter": "python",
   "pygments_lexer": "ipython3",
   "version": "3.10.11"
  },
  "orig_nbformat": 4
 },
 "nbformat": 4,
 "nbformat_minor": 2
}
