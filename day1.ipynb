{
 "cells": [
  {
   "cell_type": "code",
   "execution_count": 6,
   "metadata": {},
   "outputs": [],
   "source": [
    "from aoc_util.helper import read\n",
    "data = read(\"./2023/inputs/1.txt\").strip().split(\"\\n\")\n"
   ]
  },
  {
   "cell_type": "code",
   "execution_count": 7,
   "metadata": {},
   "outputs": [],
   "source": [
    "data_samples = data[0:5]\n",
    "\n"
   ]
  },
  {
   "cell_type": "code",
   "execution_count": 8,
   "metadata": {},
   "outputs": [],
   "source": [
    "def calculate_calibration_numbers(input_list: list) -> int:\n",
    "    all_calibration_numbers = []\n",
    "    for item in input_list:\n",
    "        all_numbers = [i for i in item if i.isdigit()]\n",
    "        first_and_last = all_numbers[:1] + all_numbers[-1:]\n",
    "        calibration_number = ''.join(first_and_last)\n",
    "        all_calibration_numbers.append(int(calibration_number))\n",
    "\n",
    "    sum_of_cals = sum(all_calibration_numbers)\n",
    "    return sum_of_cals\n",
    "\n",
    "calibration_numbers_sum = calculate_calibration_numbers(data)\n",
    "print(calibration_numbers_sum)"
   ]
  },
  {
   "cell_type": "code",
   "execution_count": 9,
   "metadata": {},
   "outputs": [
    {
     "name": "stdout",
     "output_type": "stream",
     "text": [
      "142\n"
     ]
    }
   ],
   "source": [
    "test_list = ['1abc2',\n",
    "    'pqr3stu8vwx',\n",
    "    'a1b2c3d4e5f',\n",
    "    'treb7uchet',]\n",
    "calibration_numbers_sum = calculate_calibration_numbers(test_list)\n",
    "print(calibration_numbers_sum)\n"
   ]
  },
  {
   "cell_type": "code",
   "execution_count": 10,
   "metadata": {},
   "outputs": [
    {
     "name": "stdout",
     "output_type": "stream",
     "text": [
      "55090\n"
     ]
    }
   ],
   "source": [
    "calibration_numbers_sum = calculate_calibration_numbers(data)\n",
    "print(calibration_numbers_sum)"
   ]
  },
  {
   "cell_type": "code",
   "execution_count": 11,
   "metadata": {},
   "outputs": [
    {
     "name": "stdout",
     "output_type": "stream",
     "text": [
      "['1']\n",
      "['two', 'nine', '1']\n"
     ]
    }
   ],
   "source": [
    "number_dict = {'one': 1, 'two': 2, 'three': 3, 'four': 4, 'five': 5, \n",
    "               'six': 6, 'seven': 7, 'eight': 8, 'nine': 9}\n",
    "\n",
    "number_list = ['one', 'two', 'three', 'four', 'five', 'six', 'seven', 'eight', 'nine', '1', '2', '3', '4', '5', '6', '7', '8', '9']\n",
    "\n",
    "sample = 'two1nine'\n",
    "\n",
    "# find all numbers in sample\n",
    "found_items = [item for item in sample if item in number_list]\n",
    "print(found_items)\n",
    "\n",
    "found_items = [item for item in number_list if item in sample]\n",
    "print(found_items)\n",
    "\n",
    "# replace words with numbers\n",
    "# updated_list = [number_dict.get(item, item) for item in found_items]\n",
    "# print(updated_list)\n",
    "\n",
    "# convert to int\n",
    "# converted_list = [int(item) for item in updated_list]\n",
    "\n",
    "# print(converted_list)\n"
   ]
  },
  {
   "cell_type": "code",
   "execution_count": 12,
   "metadata": {},
   "outputs": [
    {
     "name": "stdout",
     "output_type": "stream",
     "text": [
      "['t', 'w', 'o', '1', 'n', 'i', 'n', 'e']\n"
     ]
    }
   ],
   "source": [
    "sample = 'two1nine'\n",
    "updated_list = [number_dict.get(item, item) for item in sample]\n",
    "print(updated_list)"
   ]
  },
  {
   "cell_type": "code",
   "execution_count": 13,
   "metadata": {},
   "outputs": [
    {
     "name": "stdout",
     "output_type": "stream",
     "text": [
      "Found items in order: ['two', 'nine', '1']\n"
     ]
    }
   ],
   "source": [
    "my_list = ['apple', 'banana', 'orange']\n",
    "my_string = 'I like bananas, apples, and oranges.'\n",
    "\n",
    "found_items = []\n",
    "\n",
    "for item in number_list:\n",
    "    if item in sample:\n",
    "        found_items.append(item)\n",
    "\n",
    "print(\"Found items in order:\", found_items)"
   ]
  },
  {
   "cell_type": "code",
   "execution_count": 14,
   "metadata": {},
   "outputs": [
    {
     "name": "stdout",
     "output_type": "stream",
     "text": [
      "two1nine\n"
     ]
    }
   ],
   "source": [
    "def convert_text_to_numbers(input_string):\n",
    "    text_to_number = {'one': 1, 'two': 2, 'three': 3, 'four': 4, 'five': 5,\n",
    "                      'six': 6, 'seven': 7, 'eight': 8, 'nine': 9, 'zero': 0}\n",
    "\n",
    "    result = []\n",
    "\n",
    "    # Split the input string into words\n",
    "    words = input_string.split()\n",
    "\n",
    "    # Convert each word to a number or keep it as is if not in the dictionary\n",
    "    for word in words:\n",
    "        result.append(str(text_to_number.get(word, word)))\n",
    "\n",
    "    # Join the result into a single string\n",
    "    return ''.join(result)\n",
    "\n",
    "# Example usage\n",
    "input_string = 'two1nine'\n",
    "result = convert_text_to_numbers(input_string)\n",
    "\n",
    "print(result)"
   ]
  },
  {
   "cell_type": "code",
   "execution_count": 15,
   "metadata": {},
   "outputs": [
    {
     "name": "stdout",
     "output_type": "stream",
     "text": [
      "two\n",
      "nine\n",
      "1\n"
     ]
    }
   ],
   "source": [
    "\n",
    "my_string = number_list\n",
    "\n",
    "for item in number_list:\n",
    "    if item in sample:\n",
    "        print(item)\n",
    "\n",
    "\n",
    "\n",
    "\n",
    "\n",
    "\n",
    "\n",
    "\n"
   ]
  },
  {
   "cell_type": "code",
   "execution_count": 16,
   "metadata": {},
   "outputs": [
    {
     "name": "stdout",
     "output_type": "stream",
     "text": [
      "{8: 'one', 15: 'four', 11: 'six', 19: 'nine', 14: '2'}\n",
      "['one', 'six', '2', 'four', 'nine']\n"
     ]
    }
   ],
   "source": [
    "word = 'kpzfgpxdonesix2fourninefourfour'\n",
    "empty_dict = {}\n",
    "for word_to_find in number_list:\n",
    "    index = word.find(word_to_find)\n",
    "    if index != -1: empty_dict[index] = word_to_find\n",
    "print(empty_dict)\n",
    "\n",
    "sorted_items = sorted(empty_dict.items())\n",
    "\n",
    "sorted_dict = dict(sorted_items)\n",
    "\n",
    "my_list = list(sorted_dict.values())\n",
    "print(my_list)\n",
    "\n"
   ]
  },
  {
   "cell_type": "code",
   "execution_count": 17,
   "metadata": {},
   "outputs": [
    {
     "name": "stdout",
     "output_type": "stream",
     "text": [
      "Strings in the list matching the pattern: []\n"
     ]
    }
   ],
   "source": [
    "# word = 'kpzfgpxdonesix2fourninefourfour'\n",
    "import re\n",
    "\n",
    "# List of strings\n",
    "my_list = ['apple', 'banana', 'orange', 'kiwi', 'grape']\n",
    "\n",
    "# Regular expression pattern\n",
    "\n",
    "pattern = re.compile(r'\\bana\\b')\n",
    "\n",
    "# Check each string in the list against the pattern\n",
    "matching_strings = [s for s in my_list if re.search(pattern, s)]\n",
    "\n",
    "print(\"Strings in the list matching the pattern:\", matching_strings)\n",
    "\n"
   ]
  },
  {
   "cell_type": "code",
   "execution_count": 18,
   "metadata": {},
   "outputs": [
    {
     "name": "stdout",
     "output_type": "stream",
     "text": [
      "54845\n"
     ]
    }
   ],
   "source": [
    "# part 2\n",
    "\n",
    "import re\n",
    "\n",
    "input_list = ['two1nine',\n",
    "    'eightwothree',\n",
    "    'abcone2threexyz',\n",
    "    'xtwone3four',\n",
    "    '4nineeightseven2',\n",
    "    'zoneight234',\n",
    "    '7pqrstsixteen']\n",
    "\n",
    "input_string = 'abcone2threexyz'\n",
    "\n",
    "def convert_text_to_numbers(input_string):\n",
    "    number_dict = {'one': 1, 'two': 2, 'three': 3, 'four': 4, 'five': 5, \n",
    "               'six': 6, 'seven': 7, 'eight': 8, 'nine': 9}\n",
    "\n",
    "    number_list = ['one', 'two', 'three', 'four', 'five', 'six', 'seven', 'eight', 'nine', '1', '2', '3', '4', '5', '6', '7', '8', '9']\n",
    "    empty_dict = {}\n",
    "    final_list = []\n",
    "    # def convert_text_to_numbers(input_string):\n",
    "    for item in number_list:\n",
    "        # Find all occurrences of the word 'four' with their indices using regular expression\n",
    "        matches_with_indices = [(match.start(), match.end(), match.group()) for match in re.finditer(item, input_string)]\n",
    "\n",
    "        for start, end, match in matches_with_indices:\n",
    "            empty_dict[start] = match\n",
    "    # resort dictionary\n",
    "    sorted_items = sorted(empty_dict.items())\n",
    "    sorted_dict = dict(sorted_items)\n",
    "    my_list = list(sorted_dict.values())\n",
    "    # get first and last items\n",
    "    first_and_last = my_list[:1] + my_list[-1:]\n",
    "    # replace words with numbers\n",
    "    replaced_list = [number_dict.get(item, item) for item in first_and_last]\n",
    "    # convert to string\n",
    "    converted_list = [str(item) for item in replaced_list]\n",
    "    # join list into string\n",
    "    calibration_number = ''.join(converted_list)\n",
    "    # convert to int\n",
    "    return int(calibration_number)\n",
    "\n",
    "\n",
    "def part_2_calc(input_list):\n",
    "    final_list = []\n",
    "    for value in input_list:\n",
    "        calc_value = convert_text_to_numbers(value)\n",
    "        final_list.append(calc_value)\n",
    "    sum_of_cals = sum(final_list)\n",
    "    return sum_of_cals\n",
    "\n",
    "calibration_numbers_sum_2 = part_2_calc(data)\n",
    "print(calibration_numbers_sum_2)\n"
   ]
  }
 ],
 "metadata": {
  "kernelspec": {
   "display_name": "venv",
   "language": "python",
   "name": "python3"
  },
  "language_info": {
   "codemirror_mode": {
    "name": "ipython",
    "version": 3
   },
   "file_extension": ".py",
   "mimetype": "text/x-python",
   "name": "python",
   "nbconvert_exporter": "python",
   "pygments_lexer": "ipython3",
   "version": "3.10.11"
  },
  "orig_nbformat": 4
 },
 "nbformat": 4,
 "nbformat_minor": 2
}
