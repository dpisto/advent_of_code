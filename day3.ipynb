{
 "cells": [
  {
   "cell_type": "code",
   "execution_count": 4,
   "metadata": {},
   "outputs": [
    {
     "data": {
      "text/plain": [
       "'....937..........309.............191..............745.................913......................................256................891.......'"
      ]
     },
     "execution_count": 4,
     "metadata": {},
     "output_type": "execute_result"
    }
   ],
   "source": [
    "\n",
    "import re\n",
    "from aoc_util.helper import read\n",
    "data = read(\"./2023/inputs/3.txt\").strip().split(\"\\n\")\n",
    "import pandas as pd\n",
    "\n",
    "data_samples = data[0:10]\n",
    "data[0]\n"
   ]
  },
  {
   "cell_type": "code",
   "execution_count": 10,
   "metadata": {},
   "outputs": [
    {
     "data": {
      "text/plain": [
       "'467..114..'"
      ]
     },
     "execution_count": 10,
     "metadata": {},
     "output_type": "execute_result"
    }
   ],
   "source": [
    "test_sample = ['467..114..',\n",
    "'...*......',\n",
    "'..35..633.',\n",
    "'......#...',\n",
    "'617*......',\n",
    "'.....+.58.',\n",
    "'..592.....',\n",
    "'......755.',\n",
    "'...$.*....',\n",
    "'.664.598..']\n",
    "type(test_sample)\n",
    "test_sample[0]\n"
   ]
  },
  {
   "cell_type": "code",
   "execution_count": 22,
   "metadata": {},
   "outputs": [
    {
     "name": "stdout",
     "output_type": "stream",
     "text": [
      "['*', '#', '+', '$']\n"
     ]
    }
   ],
   "source": [
    "def get_special_characters(list_of_strings):\n",
    "    special_characters_list = []\n",
    "    for string in list_of_strings:\n",
    "        if re.findall(r'[^.a-zA-Z0-9\\s]', string) == []:\n",
    "            pass\n",
    "        else:\n",
    "            special_characters = re.findall(r'[^.a-zA-Z0-9\\s]', string)\n",
    "            special_characters_list.append(special_characters)\n",
    "\n",
    "    # flatten the list of lists into a single list\n",
    "    flattened_list = [item for sublist in special_characters_list for item in sublist]\n",
    "    # remove duplicates from list\n",
    "    unique_list = list(set(flattened_list))\n",
    "    return unique_list\n",
    "\n",
    "special_characters = get_special_characters(test_sample)\n",
    "print(special_characters)\n"
   ]
  },
  {
   "cell_type": "code",
   "execution_count": 25,
   "metadata": {},
   "outputs": [
    {
     "name": "stdout",
     "output_type": "stream",
     "text": [
      "[(0, 0), (0, 1), (0, 2), (0, 3), (0, 4), (0, 5), (0, 6), (0, 7), (0, 8), (0, 9), (1, 0), (1, 1), (1, 2), (1, 3), (1, 4), (1, 5), (1, 6), (1, 7), (1, 8), (1, 9), (2, 0), (2, 1), (2, 2), (2, 3), (2, 4), (2, 5), (2, 6), (2, 7), (2, 8), (2, 9), (3, 0), (3, 1), (3, 2), (3, 3), (3, 4), (3, 5), (3, 6), (3, 7), (3, 8), (3, 9), (4, 0), (4, 1), (4, 2), (4, 3), (4, 4), (4, 5), (4, 6), (4, 7), (4, 8), (4, 9), (5, 0), (5, 1), (5, 2), (5, 3), (5, 4), (5, 5), (5, 6), (5, 7), (5, 8), (5, 9), (6, 0), (6, 1), (6, 2), (6, 3), (6, 4), (6, 5), (6, 6), (6, 7), (6, 8), (6, 9), (7, 0), (7, 1), (7, 2), (7, 3), (7, 4), (7, 5), (7, 6), (7, 7), (7, 8), (7, 9), (8, 0), (8, 1), (8, 2), (8, 3), (8, 4), (8, 5), (8, 6), (8, 7), (8, 8), (8, 9), (9, 0), (9, 1), (9, 2), (9, 3), (9, 4), (9, 5), (9, 6), (9, 7), (9, 8), (9, 9)]\n"
     ]
    }
   ],
   "source": [
    "def get_coordinates(data):\n",
    "    coordinates = []\n",
    "    for row in range(len(data)):\n",
    "        for column in range(len(data[row])):\n",
    "            coordinates.append((row, column))\n",
    "    return coordinates\n",
    "\n",
    "coordinates = get_coordinates(test_sample)\n",
    "print(coordinates)\n"
   ]
  }
 ],
 "metadata": {
  "kernelspec": {
   "display_name": "venv",
   "language": "python",
   "name": "python3"
  },
  "language_info": {
   "codemirror_mode": {
    "name": "ipython",
    "version": 3
   },
   "file_extension": ".py",
   "mimetype": "text/x-python",
   "name": "python",
   "nbconvert_exporter": "python",
   "pygments_lexer": "ipython3",
   "version": "3.10.11"
  },
  "orig_nbformat": 4
 },
 "nbformat": 4,
 "nbformat_minor": 2
}
